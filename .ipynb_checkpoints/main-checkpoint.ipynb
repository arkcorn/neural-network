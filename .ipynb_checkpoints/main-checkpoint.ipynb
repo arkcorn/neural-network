{
 "cells": [
  {
   "cell_type": "code",
   "execution_count": 55,
   "id": "96052a34",
   "metadata": {},
   "outputs": [],
   "source": [
    "import math\n",
    "import random\n",
    "import numpy as np\n",
    "import matplotlib.pyplot as plt\n",
    "from keras.datasets import mnist"
   ]
  },
  {
   "cell_type": "code",
   "execution_count": 56,
   "id": "1921ccf7",
   "metadata": {},
   "outputs": [],
   "source": [
    "# Loads mnist data into variables\n",
    "\n",
    "(train_images, train_labels), (test_images, test_labels) = mnist.load_data()"
   ]
  },
  {
   "cell_type": "code",
   "execution_count": 57,
   "id": "f1254718-3c5b-429f-96dd-370250e7f061",
   "metadata": {},
   "outputs": [
    {
     "name": "stdout",
     "output_type": "stream",
     "text": [
      "(60000, 28, 28)\n",
      "(60000,)\n",
      "(10000, 28, 28)\n",
      "(10000,)\n"
     ]
    }
   ],
   "source": [
    "print(train_images.shape)\n",
    "print(train_labels.shape)\n",
    "print(test_images.shape)\n",
    "print(test_labels.shape)"
   ]
  },
  {
   "cell_type": "code",
   "execution_count": 58,
   "id": "264b3b4b-b73c-484b-9090-5ddd3e7044ab",
   "metadata": {},
   "outputs": [],
   "source": [
    "# Pixel values by default are [0,255] (where 0 is black and 255 is white)\n",
    "# We normalize these values for better compatibility with my model\n",
    "train_images = train_images.astype('float32')/255.0\n",
    "test_images = test_images.astype('float32')/255.0"
   ]
  },
  {
   "cell_type": "code",
   "execution_count": 59,
   "id": "f15303d4-12aa-4104-8eeb-beb1b572dbbf",
   "metadata": {},
   "outputs": [
    {
     "data": {
      "image/png": "[encoded data removed]",
      "text/plain": [
       "<Figure size 1000x500 with 8 Axes>"
      ]
     },
     "metadata": {},
     "output_type": "display_data"
    }
   ],
   "source": [
    "rows = 2\n",
    "cols = 4\n",
    "\n",
    "fig, axes = plt.subplots(rows, cols, figsize=(10, 5))\n",
    "\n",
    "# Commented code shows first 8 images (indices 0-7)\n",
    "\n",
    "# for i in range(rows):\n",
    "#     for j in range(cols):\n",
    "#         index = j + (cols * i)\n",
    "#         axes[i, j].imshow(train_images[index], cmap='gray')\n",
    "#         axes[i, j].axis('off')\n",
    "\n",
    "\n",
    "# Show 8 random images in the dataset\n",
    "for i in range(rows):\n",
    "    for j in range(cols):\n",
    "        index = random.randint(0, train_images.shape[0] - 1)\n",
    "        axes[i, j].imshow(train_images[index], cmap='gray')\n",
    "        axes[i, j].axis('off')\n",
    "\n",
    "fig.suptitle(\"MNIST Dataset Sample Images\", fontsize=16)\n",
    "plt.tight_layout()\n",
    "plt.show()"
   ]
  },
  {
   "cell_type": "code",
   "execution_count": 75,
   "id": "4b8e8a3e-a415-44fe-bda6-da00a2bdb2a2",
   "metadata": {},
   "outputs": [],
   "source": [
    "\n",
    "# Defines the neuron class\n",
    "class Neuron:\n",
    "    def __init__(self, activation):\n",
    "        self.activation = activation\n",
    "\n",
    "    def setActivation(self, num):\n",
    "        self.activation = num\n",
    "\n",
    "    def getActivation(self):\n",
    "        return self.activation\n",
    "\n",
    "# Gets the max value from an array of neurons\n",
    "def getMax(l):\n",
    "    max = l[0].getActivation()\n",
    "    for i in range(1, l.size):\n",
    "        if l[i].getActivation() > max:\n",
    "            max = l[i].getActivation()\n",
    "    return max    \n",
    "\n",
    "# Returns the number (index) which has the highest activation\n",
    "def getMaxNumber(l):\n",
    "    max_act = l[0].getActivation()\n",
    "    max_idx = 0\n",
    "    for i in range(1, l.size):\n",
    "        if l[i].getActivation() > max_act:\n",
    "            max_act = l[i].getActivation()\n",
    "            max_idx = i\n",
    "            \n",
    "    return max_idx\n",
    "\n",
    "# Takes an image (index) and changes the 1st layer of neuron accordingly\n",
    "def fillFirstLayer(l, data, index):\n",
    "    for i in range(28):\n",
    "        for j in range(28):\n",
    "            l = np.append(l, Neuron(data[index][i][j]))\n",
    "    return l\n",
    "\n",
    "# Used to initialize layers 2-4\n",
    "def fillLayerWithZeroNeurons(l, num):\n",
    "    for i in range(num):\n",
    "        l = np.append(l, Neuron(0))\n",
    "\n",
    "    return l"
   ]
  },
  {
   "cell_type": "code",
   "execution_count": 61,
   "id": "26e7d4ed-4958-4416-92e9-e169474d61bc",
   "metadata": {},
   "outputs": [],
   "source": [
    "# layer 1 will be composed of the pixel values of the image inputted\n",
    "l1 = np.array([])\n",
    "\n",
    "# layers 2-3 will be the 'hidden layers' or 'black box' of the network\n",
    "l2 = np.array([])\n",
    "l3 = np.array([])\n",
    "\n",
    "# layer 4 will be the output layer or the head\n",
    "l4 = np.array([])\n",
    "\n",
    "# initialize the layers here\n",
    "l1 = fillFirstLayer(l1, train_images, 0)\n",
    "l2 = fillLayerWithZeroNeurons(l2, 16)\n",
    "l3 = fillLayerWithZeroNeurons(l3, 16)\n",
    "l4 = fillLayerWithZeroNeurons(l4, 10)"
   ]
  },
  {
   "cell_type": "code",
   "execution_count": 62,
   "id": "ec7f9c6a-bf28-4140-82e4-c6289f84dc45",
   "metadata": {},
   "outputs": [
    {
     "name": "stdout",
     "output_type": "stream",
     "text": [
      "(784, 16)\n",
      "(16, 16)\n",
      "(16, 10)\n",
      "13002\n"
     ]
    }
   ],
   "source": [
    "\"\"\"\n",
    "Here we are assigning random weights and biases\n",
    "After this chunk runs all 13,002 parameters have a value\n",
    "Weights are between -5 and 5 and biases are between -10 and 10\n",
    "\"\"\"\n",
    "\n",
    "l1Weights = np.array([])\n",
    "\n",
    "for i in range(l1.size):\n",
    "    temp = np.array([])\n",
    "    for j in range(l2.size):\n",
    "        temp = np.append(temp, np.random.uniform(-5, 5))\n",
    "    if l1Weights.size == 0:\n",
    "        l1Weights = np.array([temp])\n",
    "    else:\n",
    "        l1Weights = np.append(l1Weights, [temp], axis=0)    \n",
    "\n",
    "print(l1Weights.shape)\n",
    "\n",
    "l2Weights = np.array([])\n",
    "\n",
    "for i in range(l2.size):\n",
    "    temp = np.array([])\n",
    "    for j in range(l3.size):\n",
    "        temp = np.append(temp, np.random.uniform(-5, 5))\n",
    "    if l2Weights.size == 0:\n",
    "        l2Weights = np.array([temp])\n",
    "    else:\n",
    "        l2Weights = np.append(l2Weights, [temp], axis=0)     \n",
    "\n",
    "print(l2Weights.shape)\n",
    "\n",
    "l3Weights = np.array([])\n",
    "\n",
    "for i in range(l3.size):\n",
    "    temp = np.array([])\n",
    "    for j in range(l4.size):\n",
    "        temp = np.append(temp, np.random.uniform(-5, 5))\n",
    "    if l3Weights.size == 0:\n",
    "        l3Weights = np.array([temp])\n",
    "    else:\n",
    "        l3Weights = np.append(l3Weights, [temp], axis=0)  \n",
    "\n",
    "print(l3Weights.shape)\n",
    "\n",
    "l2Biases = np.array([])\n",
    "l3Biases = np.array([])\n",
    "l4Biases = np.array([])\n",
    "\n",
    "for i in range(16):\n",
    "    l2Biases = np.append(l2Biases, np.random.uniform(-10, 10))\n",
    "    l3Biases = np.append(l3Biases, np.random.uniform(-10, 10))\n",
    "    if i < 10:\n",
    "        l4Biases = np.append(l4Biases, np.random.uniform(-10, 10))\n",
    "\n",
    "print(l1Weights.size + l2Weights.size + l3Weights.size + l2Biases.size + l3Biases.size + l4Biases.size)"
   ]
  },
  {
   "cell_type": "code",
   "execution_count": 63,
   "id": "3d4a66fa-b758-43ac-b7b7-b8311dd6ebf9",
   "metadata": {},
   "outputs": [],
   "source": [
    "# Now we have the network fully set up.\n",
    "# We have 4 layers of neurons\n",
    "# 13002 parameters (weights and biases) with the weights being randomized between [-5, 5] and the biases randomized between [-10, 10]\n",
    "# The 1st layer already has the values of the 1st image and the 2-4th layers all contain neurons initialized at "
   ]
  },
  {
   "cell_type": "code",
   "execution_count": 64,
   "id": "7a4a4c38-f12f-4d74-9543-025faf32ba98",
   "metadata": {},
   "outputs": [],
   "source": [
    "\n",
    "class Network:\n",
    "    \n",
    "    def setWeights(self, w1, w2, w3):\n",
    "        self.w1 = w1\n",
    "        self.w2 = w2\n",
    "        self.w3 = w3\n",
    "        \n",
    "    def setBiases(self, b2, b3, b4):\n",
    "        self.b2 = b2\n",
    "        self.b3 = b3\n",
    "        self.b4 = b4\n",
    "\n",
    "    def setNeurons(self, n1, n2, n3, n4):\n",
    "        self.n1 = n1\n",
    "        self.n2 = n2\n",
    "        self.n3 = n3\n",
    "        self.n4 = n4\n",
    "\n",
    "    # loads an image into the 1st layer\n",
    "    def initImage(self, data, index):\n",
    "        self.n1 = np.array([])\n",
    "        for i in range(data[index].shape[0]):\n",
    "            for j in range(data[index].shape[1]):\n",
    "                self.n1 = np.append(self.n1, Neuron(data[index][i][j]))\n",
    "\n",
    "    def runImage(self):\n",
    "        for i in range(self.n2.size): # Per 2nd layer neuron\n",
    "            sum = 0\n",
    "            for j in range(self.n1.size): # Per 1st layer neuron\n",
    "                sum += self.n1[j].getActivation() * self.w1[j][i]\n",
    "            z = sum + self.b2[i]\n",
    "            a = sigmoid(z)\n",
    "            self.n2[i].setActivation(a)\n",
    "\n",
    "        for i in range(self.n3.size): # Per 3rd layer neuron\n",
    "            sum = 0\n",
    "            for j in range(self.n2.size): # Per 2nd layer neuron\n",
    "                sum += self.n2[j].getActivation() * self.w2[j][i]\n",
    "            z = sum + self.b3[i]\n",
    "            a = sigmoid(z)\n",
    "            self.n3[i].setActivation(a)\n",
    "\n",
    "        for i in range(self.n4.size): # Per 4th layer neuron\n",
    "            sum = 0\n",
    "            for j in range(self.n3.size): # Per 3rd layer neuron\n",
    "                sum += self.n3[j].getActivation() * self.w3[j][i]\n",
    "            z = sum + self.b4[i]\n",
    "            a = sigmoid(z)\n",
    "            self.n4[i].setActivation(a)\n",
    "\n",
    "    def calcLoss(self, target):\n",
    "        loss = 0\n",
    "        for i in range(self.n4.size):\n",
    "            if i == target:\n",
    "                loss += (self.n4[i].getActivation() - 1.00) ** 2\n",
    "            else:\n",
    "                loss += self.n4[i].getActivation() ** 2\n",
    "        return loss\n",
    "    \n",
    "\n",
    "# We are using the sigmoid function as our activation function\n",
    "def sigmoid(x):\n",
    "    return 1 / (1 + math.e ** -x)"
   ]
  },
  {
   "cell_type": "code",
   "execution_count": 65,
   "id": "b8ca8ae6-2564-484b-9a74-c405ed8da370",
   "metadata": {},
   "outputs": [],
   "source": [
    "firstNetwork = Network()\n",
    "firstNetwork.setWeights(l1Weights, l2Weights, l3Weights)\n",
    "firstNetwork.setBiases(l2Biases, l3Biases, l4Biases)\n",
    "firstNetwork.setNeurons(l1, l2, l3, l4)"
   ]
  },
  {
   "cell_type": "code",
   "execution_count": 66,
   "id": "a35e218c-f46d-46ad-9c4c-6f137affbefe",
   "metadata": {},
   "outputs": [],
   "source": [
    "# Lets do a run with our loaded data\n",
    "\n",
    "# Calculates activation of neurons in the second layer\n",
    "for i in range(firstNetwork.n2.size): # Per 2nd layer neuron\n",
    "    sum = 0\n",
    "    for j in range(firstNetwork.n1.size): # Per 1st layer neuron\n",
    "        sum += firstNetwork.n1[j].getActivation() * firstNetwork.w1[j][i]\n",
    "    z = sum + firstNetwork.b2[i]\n",
    "    a = sigmoid(z)\n",
    "    firstNetwork.n2[i].setActivation(a)"
   ]
  },
  {
   "cell_type": "code",
   "execution_count": 67,
   "id": "73c447b4-fc4d-4a0f-a3c0-7b316d262a32",
   "metadata": {},
   "outputs": [
    {
     "name": "stdout",
     "output_type": "stream",
     "text": [
      "6.845771839077793e-11\n",
      "1.1144602692991517e-14\n",
      "0.9999999999999958\n",
      "0.9997693600599438\n",
      "0.9999323804992774\n",
      "8.65560398006097e-20\n",
      "4.967385521791089e-09\n",
      "0.6709031757519488\n",
      "1.031488550037463e-17\n",
      "2.26368812655962e-06\n",
      "0.9999999845469218\n",
      "0.20159577084810035\n",
      "0.9647415504661754\n",
      "0.9999999999967619\n",
      "1.0\n",
      "1.1699643545900272e-21\n"
     ]
    }
   ],
   "source": [
    "for i in range(16):\n",
    "    print(firstNetwork.n2[i].getActivation())"
   ]
  },
  {
   "cell_type": "code",
   "execution_count": 68,
   "id": "f300331a-aee6-4532-be74-11fde8349732",
   "metadata": {},
   "outputs": [],
   "source": [
    "# 3rd layer\n",
    "\n",
    "for i in range(firstNetwork.n3.size): # Per 3rd layer neuron\n",
    "    sum = 0\n",
    "    for j in range(firstNetwork.n2.size): # Per 2nd layer neuron\n",
    "        sum += firstNetwork.n2[j].getActivation() * firstNetwork.w2[j][i]\n",
    "    z = sum + firstNetwork.b3[i]\n",
    "    a = sigmoid(z)\n",
    "    firstNetwork.n3[i].setActivation(a)"
   ]
  },
  {
   "cell_type": "code",
   "execution_count": 69,
   "id": "95369675-fe14-42b3-9003-ea04c8f1088a",
   "metadata": {},
   "outputs": [
    {
     "name": "stdout",
     "output_type": "stream",
     "text": [
      "0.9810277924816354\n",
      "0.0014730849158699814\n",
      "0.9999506774921907\n",
      "0.9999997091309736\n",
      "0.8982163811922538\n",
      "0.0472524830002582\n",
      "0.9958538954329519\n",
      "0.00016735321621400354\n",
      "0.9999948970841281\n",
      "0.0021093952694350047\n",
      "0.020868946124535215\n",
      "0.9989405303487092\n",
      "0.05224931877536314\n",
      "0.9999980867992401\n",
      "0.9940989255729974\n",
      "0.9872934793431964\n"
     ]
    }
   ],
   "source": [
    "for i in range(16):\n",
    "    print(firstNetwork.n3[i].getActivation())"
   ]
  },
  {
   "cell_type": "code",
   "execution_count": 70,
   "id": "e5563a59-9210-4f36-b950-3626615d6400",
   "metadata": {},
   "outputs": [],
   "source": [
    "#head\n",
    "\n",
    "for i in range(firstNetwork.n4.size): # Per 4th layer neuron\n",
    "    sum = 0\n",
    "    for j in range(firstNetwork.n3.size): # Per 3rd layer neuron\n",
    "        sum += firstNetwork.n3[j].getActivation() * firstNetwork.w3[j][i]\n",
    "    z = sum + firstNetwork.b4[i]\n",
    "    a = sigmoid(z)\n",
    "    firstNetwork.n4[i].setActivation(a)"
   ]
  },
  {
   "cell_type": "code",
   "execution_count": 71,
   "id": "33bdf44b-07f6-4f11-b782-028ae86cfdfd",
   "metadata": {},
   "outputs": [
    {
     "name": "stdout",
     "output_type": "stream",
     "text": [
      "0.14037594807540632\n",
      "2.3802334033455051e-07\n",
      "0.9999349731905334\n",
      "0.9999257251395683\n",
      "0.016315218510268136\n",
      "0.04389560538638\n",
      "1.7641303054269062e-06\n",
      "0.002423847018418476\n",
      "0.9999777709519262\n",
      "3.630608070728376e-05\n"
     ]
    }
   ],
   "source": [
    "for i in range(10):\n",
    "    print(firstNetwork.n4[i].getActivation())"
   ]
  },
  {
   "cell_type": "code",
   "execution_count": 72,
   "id": "cf271e11-ee5b-4fc5-944b-a9386aa46f5c",
   "metadata": {},
   "outputs": [],
   "source": [
    "# GREAT! We did a first run of our network on one image\n",
    "# Lets make that into a function for us to use later"
   ]
  },
  {
   "cell_type": "code",
   "execution_count": 76,
   "id": "05a8df18-9920-4e1d-b6ca-7cd6c40d77eb",
   "metadata": {},
   "outputs": [
    {
     "name": "stdout",
     "output_type": "stream",
     "text": [
      "5\n",
      "3.9337900317116796\n",
      "8\n",
      "0.9999777709519262\n"
     ]
    }
   ],
   "source": [
    "print(train_labels[0])\n",
    "print(firstNetwork.calcLoss(5))\n",
    "print(getMaxNumber(firstNetwork.n4))\n",
    "print(getMax(firstNetwork.n4))"
   ]
  },
  {
   "cell_type": "code",
   "execution_count": 77,
   "id": "5c17334e-cc13-4bed-bcb0-acbb260931b4",
   "metadata": {},
   "outputs": [],
   "source": [
    "# del(cost) / del(weight) == a(l-1) * sig'(z) * 2(a - y)\n",
    "# del(cost) / del(bias) == sig'(z) * 2(a - y)\n",
    "\n",
    "#### BACKPROP ####"
   ]
  },
  {
   "cell_type": "code",
   "execution_count": null,
   "id": "fa65fa2f-80f9-42a7-ac48-dcf98a9715f4",
   "metadata": {},
   "outputs": [],
   "source": []
  }
 ],
 "metadata": {
  "kernelspec": {
   "display_name": "mnist_neuralnet",
   "language": "python",
   "name": "mnist_neuralnet"
  },
  "language_info": {
   "codemirror_mode": {
    "name": "ipython",
    "version": 3
   },
   "file_extension": ".py",
   "mimetype": "text/x-python",
   "name": "python",
   "nbconvert_exporter": "python",
   "pygments_lexer": "ipython3",
   "version": "3.12.3"
  }
 },
 "nbformat": 4,
 "nbformat_minor": 5
}
