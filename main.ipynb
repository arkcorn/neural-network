{
 "cells": [
  {
   "cell_type": "code",
   "execution_count": 1,
   "id": "96052a34",
   "metadata": {},
   "outputs": [
    {
     "name": "stderr",
     "output_type": "stream",
     "text": [
      "2024-08-04 12:46:23.781921: I external/local_xla/xla/tsl/cuda/cudart_stub.cc:32] Could not find cuda drivers on your machine, GPU will not be used.\n",
      "2024-08-04 12:46:23.789512: I external/local_xla/xla/tsl/cuda/cudart_stub.cc:32] Could not find cuda drivers on your machine, GPU will not be used.\n",
      "2024-08-04 12:46:23.811235: E external/local_xla/xla/stream_executor/cuda/cuda_fft.cc:485] Unable to register cuFFT factory: Attempting to register factory for plugin cuFFT when one has already been registered\n",
      "2024-08-04 12:46:23.844926: E external/local_xla/xla/stream_executor/cuda/cuda_dnn.cc:8454] Unable to register cuDNN factory: Attempting to register factory for plugin cuDNN when one has already been registered\n",
      "2024-08-04 12:46:23.854883: E external/local_xla/xla/stream_executor/cuda/cuda_blas.cc:1452] Unable to register cuBLAS factory: Attempting to register factory for plugin cuBLAS when one has already been registered\n",
      "2024-08-04 12:46:23.881938: I tensorflow/core/platform/cpu_feature_guard.cc:210] This TensorFlow binary is optimized to use available CPU instructions in performance-critical operations.\n",
      "To enable the following instructions: AVX2 FMA, in other operations, rebuild TensorFlow with the appropriate compiler flags.\n",
      "2024-08-04 12:46:25.834712: W tensorflow/compiler/tf2tensorrt/utils/py_utils.cc:38] TF-TRT Warning: Could not find TensorRT\n"
     ]
    }
   ],
   "source": [
    "import random\n",
    "import numpy as np\n",
    "import matplotlib.pyplot as plt\n",
    "from keras.datasets import mnist"
   ]
  },
  {
   "cell_type": "code",
   "execution_count": 2,
   "id": "1921ccf7",
   "metadata": {},
   "outputs": [],
   "source": [
    "(train_images, train_labels), (test_images, test_labels) = mnist.load_data()"
   ]
  },
  {
   "cell_type": "code",
   "execution_count": 3,
   "id": "f1254718-3c5b-429f-96dd-370250e7f061",
   "metadata": {},
   "outputs": [
    {
     "data": {
      "text/plain": [
       "(60000, 28, 28)"
      ]
     },
     "execution_count": 3,
     "metadata": {},
     "output_type": "execute_result"
    }
   ],
   "source": [
    "train_images.shape"
   ]
  },
  {
   "cell_type": "code",
   "execution_count": 4,
   "id": "264b3b4b-b73c-484b-9090-5ddd3e7044ab",
   "metadata": {},
   "outputs": [],
   "source": [
    "train_images = train_images.astype('float32')/255.0\n",
    "test_images = test_images.astype('float32')/255.0"
   ]
  },
  {
   "cell_type": "code",
   "execution_count": 5,
   "id": "f15303d4-12aa-4104-8eeb-beb1b572dbbf",
   "metadata": {},
   "outputs": [
    {
     "data": {
      "image/png": "[encoded data removed]",
      "text/plain": [
       "<Figure size 1000x500 with 8 Axes>"
      ]
     },
     "metadata": {},
     "output_type": "display_data"
    }
   ],
   "source": [
    "rows = 2\n",
    "cols = 4\n",
    "\n",
    "fig, axes = plt.subplots(rows, cols, figsize=(10, 5))\n",
    "\n",
    "# for i in range(rows):\n",
    "#     for j in range(cols):\n",
    "#         index = j + (cols * i)\n",
    "#         # print(index)\n",
    "#         axes[i, j].imshow(train_images[index], cmap='gray')\n",
    "#         axes[i, j].axis('off')\n",
    "\n",
    "for i in range(rows):\n",
    "    for j in range(cols):\n",
    "        index = random.randint(0, train_images.shape[0] - 1)\n",
    "        # print(index)\n",
    "        axes[i, j].imshow(train_images[index], cmap='gray')\n",
    "        axes[i, j].axis('off')\n",
    "\n",
    "\n",
    "fig.suptitle(\"MNIST Dataset Sample Images\", fontsize=16)\n",
    "plt.tight_layout()\n",
    "plt.show()"
   ]
  },
  {
   "cell_type": "code",
   "execution_count": 6,
   "id": "4b8e8a3e-a415-44fe-bda6-da00a2bdb2a2",
   "metadata": {},
   "outputs": [],
   "source": [
    "class Neuron:\n",
    "    def __init__(self, activation):\n",
    "        self.activation = activation\n",
    "\n",
    "    def setActivation(self, num):\n",
    "        self.activation = num\n",
    "\n",
    "    def getActivation(self):\n",
    "        return self.activation\n",
    "\n",
    "#Getting the max value from an array of neurons\n",
    "def getMax(l):\n",
    "    max = l[0].getActivation()\n",
    "    for i in range(1, l.size):\n",
    "        if l[i].getActivation() > max:\n",
    "            max = l[i].getActivation()\n",
    "    return max    \n",
    "\n",
    "def fillFirstLayer(l, data, index):\n",
    "    for i in range(28):\n",
    "        for j in range(28):\n",
    "            l = np.append(l, Neuron(data[index][i][j]))\n",
    "\n",
    "    return l\n",
    "    \n",
    "def fillLayerWithZeroNeurons(l, num):\n",
    "    for i in range(num):\n",
    "        l = np.append(l, Neuron(0))\n",
    "\n",
    "    return l"
   ]
  },
  {
   "cell_type": "code",
   "execution_count": 7,
   "id": "26e7d4ed-4958-4416-92e9-e169474d61bc",
   "metadata": {},
   "outputs": [],
   "source": [
    "# layer 1 will be composed of the pixel values of the image inputted\n",
    "l1 = np.array([])\n",
    "\n",
    "# layers 2-3 will be the 'hidden layers' or 'black box' of the network\n",
    "l2 = np.array([])\n",
    "l3 = np.array([])\n",
    "\n",
    "# layer 4 will be the output layer or the head\n",
    "\n",
    "l4 = np.array([])\n",
    "\n",
    "l1 = fillFirstLayer(l1, train_images, 0)\n",
    "l2 = fillLayerWithZeroNeurons(l2, 16)\n",
    "l3 = fillLayerWithZeroNeurons(l3, 16)\n",
    "l4 = fillLayerWithZeroNeurons(l4, 10)"
   ]
  },
  {
   "cell_type": "code",
   "execution_count": 11,
   "id": "ec7f9c6a-bf28-4140-82e4-c6289f84dc45",
   "metadata": {},
   "outputs": [
    {
     "name": "stdout",
     "output_type": "stream",
     "text": [
      "(12544,)\n",
      "(256,)\n",
      "(160,)\n",
      "13002\n"
     ]
    }
   ],
   "source": [
    "\n",
    "l1Weights = np.array([])\n",
    "\n",
    "for i in range(l1.size):\n",
    "    temp = np.array([])\n",
    "    for j in range(l2.size):\n",
    "        temp = np.append(temp, np.random.uniform(-5, 5))\n",
    "    l1Weights = np.append(l1Weights, temp)    \n",
    "\n",
    "print(l1Weights.shape)\n",
    "\n",
    "l2Weights = np.array([])\n",
    "\n",
    "for i in range(l2.size):\n",
    "    temp = np.array([])\n",
    "    for j in range(l3.size):\n",
    "        temp = np.append(temp, np.random.uniform(-5, 5))\n",
    "    l2Weights = np.append(l2Weights, temp)    \n",
    "\n",
    "print(l2Weights.shape)\n",
    "\n",
    "l3Weights = np.array([])\n",
    "\n",
    "for i in range(l3.size):\n",
    "    temp = np.array([])\n",
    "    for j in range(l4.size):\n",
    "        temp = np.append(temp, np.random.uniform(-5, 5))\n",
    "    l3Weights = np.append(l3Weights, temp) \n",
    "\n",
    "print(l3Weights.shape)\n",
    "\n",
    "l2Biases = np.array([])\n",
    "l3Biases = np.array([])\n",
    "l4Biases = np.array([])\n",
    "\n",
    "for i in range(16):\n",
    "    l2Biases = np.append(l2Biases, np.random.uniform(-10, 10))\n",
    "    l3Biases = np.append(l3Biases, np.random.uniform(-10, 10))\n",
    "    if i < 10:\n",
    "        l4Biases = np.append(l4Biases, np.random.uniform(-10, 10))\n",
    "\n",
    "\n",
    "\n",
    "\n",
    "\n",
    "print(l1Weights.size + l2Weights.size + l3Weights.size + l2Biases.size + l3Biases.size + l4Biases.size)"
   ]
  },
  {
   "cell_type": "code",
   "execution_count": null,
   "id": "3d4a66fa-b758-43ac-b7b7-b8311dd6ebf9",
   "metadata": {},
   "outputs": [],
   "source": [
    "# Now we have the network fully set up.\n",
    "# We have 4 layers of neurons\n",
    "# 13002 parameters (weights and biases) with the weights being randomized between [-5, 5] and the biases randomized between [-10, 10]\n",
    "# The 1st layer already has the values of the 1st image and the 2-4th layers all contain neurons initialized at 0"
   ]
  }
 ],
 "metadata": {
  "kernelspec": {
   "display_name": "mnist_neuralnet",
   "language": "python",
   "name": "mnist_neuralnet"
  },
  "language_info": {
   "codemirror_mode": {
    "name": "ipython",
    "version": 3
   },
   "file_extension": ".py",
   "mimetype": "text/x-python",
   "name": "python",
   "nbconvert_exporter": "python",
   "pygments_lexer": "ipython3",
   "version": "3.12.3"
  }
 },
 "nbformat": 4,
 "nbformat_minor": 5
}
