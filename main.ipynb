{
 "cells": [
  {
   "cell_type": "code",
   "execution_count": 2,
   "id": "96052a34",
   "metadata": {},
   "outputs": [
    {
     "name": "stderr",
     "output_type": "stream",
     "text": [
      "2024-08-04 17:01:49.422327: I external/local_xla/xla/tsl/cuda/cudart_stub.cc:32] Could not find cuda drivers on your machine, GPU will not be used.\n",
      "2024-08-04 17:01:49.429755: I external/local_xla/xla/tsl/cuda/cudart_stub.cc:32] Could not find cuda drivers on your machine, GPU will not be used.\n",
      "2024-08-04 17:01:49.451810: E external/local_xla/xla/stream_executor/cuda/cuda_fft.cc:485] Unable to register cuFFT factory: Attempting to register factory for plugin cuFFT when one has already been registered\n",
      "2024-08-04 17:01:49.488612: E external/local_xla/xla/stream_executor/cuda/cuda_dnn.cc:8454] Unable to register cuDNN factory: Attempting to register factory for plugin cuDNN when one has already been registered\n",
      "2024-08-04 17:01:49.495839: E external/local_xla/xla/stream_executor/cuda/cuda_blas.cc:1452] Unable to register cuBLAS factory: Attempting to register factory for plugin cuBLAS when one has already been registered\n",
      "2024-08-04 17:01:49.513501: I tensorflow/core/platform/cpu_feature_guard.cc:210] This TensorFlow binary is optimized to use available CPU instructions in performance-critical operations.\n",
      "To enable the following instructions: AVX2 FMA, in other operations, rebuild TensorFlow with the appropriate compiler flags.\n",
      "2024-08-04 17:01:51.372044: W tensorflow/compiler/tf2tensorrt/utils/py_utils.cc:38] TF-TRT Warning: Could not find TensorRT\n"
     ]
    }
   ],
   "source": [
    "import math\n",
    "import random\n",
    "import numpy as np\n",
    "import matplotlib.pyplot as plt\n",
    "from keras.datasets import mnist"
   ]
  },
  {
   "cell_type": "code",
   "execution_count": 3,
   "id": "1921ccf7",
   "metadata": {},
   "outputs": [],
   "source": [
    "# Loads mnist data into variables\n",
    "\n",
    "(train_images, train_labels), (test_images, test_labels) = mnist.load_data()"
   ]
  },
  {
   "cell_type": "code",
   "execution_count": 4,
   "id": "f1254718-3c5b-429f-96dd-370250e7f061",
   "metadata": {},
   "outputs": [
    {
     "name": "stdout",
     "output_type": "stream",
     "text": [
      "(60000, 28, 28)\n",
      "(60000,)\n",
      "(10000, 28, 28)\n",
      "(10000,)\n"
     ]
    }
   ],
   "source": [
    "print(train_images.shape)\n",
    "print(train_labels.shape)\n",
    "print(test_images.shape)\n",
    "print(test_labels.shape)"
   ]
  },
  {
   "cell_type": "code",
   "execution_count": 5,
   "id": "264b3b4b-b73c-484b-9090-5ddd3e7044ab",
   "metadata": {},
   "outputs": [],
   "source": [
    "# Pixel values by default are [0,255] (where 0 is black and 255 is white)\n",
    "# We normalize these values for better compatibility with my model\n",
    "train_images = train_images.astype('float32')/255.0\n",
    "test_images = test_images.astype('float32')/255.0"
   ]
  },
  {
   "cell_type": "code",
   "execution_count": 6,
   "id": "f15303d4-12aa-4104-8eeb-beb1b572dbbf",
   "metadata": {},
   "outputs": [
    {
     "data": {
      "image/png": "[encoded data removed]",
      "text/plain": [
       "<Figure size 1000x500 with 8 Axes>"
      ]
     },
     "metadata": {},
     "output_type": "display_data"
    }
   ],
   "source": [
    "rows = 2\n",
    "cols = 4\n",
    "\n",
    "fig, axes = plt.subplots(rows, cols, figsize=(10, 5))\n",
    "\n",
    "# Commented code shows first 8 images (indices 0-7)\n",
    "\n",
    "# for i in range(rows):\n",
    "#     for j in range(cols):\n",
    "#         index = j + (cols * i)\n",
    "#         axes[i, j].imshow(train_images[index], cmap='gray')\n",
    "#         axes[i, j].axis('off')\n",
    "\n",
    "\n",
    "# Show 8 random images in the dataset\n",
    "for i in range(rows):\n",
    "    for j in range(cols):\n",
    "        index = random.randint(0, train_images.shape[0] - 1)\n",
    "        axes[i, j].imshow(train_images[index], cmap='gray')\n",
    "        axes[i, j].axis('off')\n",
    "\n",
    "fig.suptitle(\"MNIST Dataset Sample Images\", fontsize=16)\n",
    "plt.tight_layout()\n",
    "plt.show()"
   ]
  },
  {
   "cell_type": "code",
   "execution_count": 7,
   "id": "4b8e8a3e-a415-44fe-bda6-da00a2bdb2a2",
   "metadata": {},
   "outputs": [],
   "source": [
    "\n",
    "# Defines the neuron class\n",
    "class Neuron:\n",
    "    def __init__(self, activation, z=0):\n",
    "        self.activation = activation\n",
    "        self.z = z\n",
    "\n",
    "    def setActivation(self, num):\n",
    "        self.activation = num\n",
    "\n",
    "    def getActivation(self):\n",
    "        return self.activation\n",
    "\n",
    "# Gets the max value from an array of neurons\n",
    "def getMax(l):\n",
    "    max = l[0].getActivation()\n",
    "    for i in range(1, l.size):\n",
    "        if l[i].getActivation() > max:\n",
    "            max = l[i].getActivation()\n",
    "    return max    \n",
    "\n",
    "# Returns the number (index) which has the highest activation\n",
    "def getMaxNumber(l):\n",
    "    max_act = l[0].getActivation()\n",
    "    max_idx = 0\n",
    "    for i in range(1, l.size):\n",
    "        if l[i].getActivation() > max_act:\n",
    "            max_act = l[i].getActivation()\n",
    "            max_idx = i\n",
    "            \n",
    "    return max_idx\n",
    "\n",
    "# Takes an image (index) and changes the 1st layer of neuron accordingly\n",
    "def fillFirstLayer(l, data, index):\n",
    "    for i in range(28):\n",
    "        for j in range(28):\n",
    "            l = np.append(l, Neuron(data[index][i][j]))\n",
    "    return l\n",
    "\n",
    "# Used to initialize layers 2-4\n",
    "def fillLayerWithZeroNeurons(l, num):\n",
    "    for i in range(num):\n",
    "        l = np.append(l, Neuron(0))\n",
    "\n",
    "    return l"
   ]
  },
  {
   "cell_type": "code",
   "execution_count": 8,
   "id": "26e7d4ed-4958-4416-92e9-e169474d61bc",
   "metadata": {},
   "outputs": [],
   "source": [
    "# layer 1 will be composed of the pixel values of the image inputted\n",
    "l1 = np.array([])\n",
    "\n",
    "# layers 2-3 will be the 'hidden layers' or 'black box' of the network\n",
    "l2 = np.array([])\n",
    "l3 = np.array([])\n",
    "\n",
    "# layer 4 will be the output layer or the head\n",
    "l4 = np.array([])\n",
    "\n",
    "# initialize the layers here\n",
    "l1 = fillFirstLayer(l1, train_images, 0)\n",
    "l2 = fillLayerWithZeroNeurons(l2, 16)\n",
    "l3 = fillLayerWithZeroNeurons(l3, 16)\n",
    "l4 = fillLayerWithZeroNeurons(l4, 10)"
   ]
  },
  {
   "cell_type": "code",
   "execution_count": 9,
   "id": "ec7f9c6a-bf28-4140-82e4-c6289f84dc45",
   "metadata": {},
   "outputs": [
    {
     "name": "stdout",
     "output_type": "stream",
     "text": [
      "(784, 16)\n",
      "(16, 16)\n",
      "(16, 10)\n",
      "13002\n"
     ]
    }
   ],
   "source": [
    "\"\"\"\n",
    "Here we are assigning random weights and biases\n",
    "After this chunk runs all 13,002 parameters have a value\n",
    "Weights are between -5 and 5 and biases are between -10 and 10\n",
    "\"\"\"\n",
    "\n",
    "l1Weights = np.array([])\n",
    "\n",
    "for i in range(l1.size):\n",
    "    temp = np.array([])\n",
    "    for j in range(l2.size):\n",
    "        temp = np.append(temp, np.random.uniform(-5, 5))\n",
    "    if l1Weights.size == 0:\n",
    "        l1Weights = np.array([temp])\n",
    "    else:\n",
    "        l1Weights = np.append(l1Weights, [temp], axis=0)    \n",
    "\n",
    "print(l1Weights.shape)\n",
    "\n",
    "l2Weights = np.array([])\n",
    "\n",
    "for i in range(l2.size):\n",
    "    temp = np.array([])\n",
    "    for j in range(l3.size):\n",
    "        temp = np.append(temp, np.random.uniform(-5, 5))\n",
    "    if l2Weights.size == 0:\n",
    "        l2Weights = np.array([temp])\n",
    "    else:\n",
    "        l2Weights = np.append(l2Weights, [temp], axis=0)     \n",
    "\n",
    "print(l2Weights.shape)\n",
    "\n",
    "l3Weights = np.array([])\n",
    "\n",
    "for i in range(l3.size):\n",
    "    temp = np.array([])\n",
    "    for j in range(l4.size):\n",
    "        temp = np.append(temp, np.random.uniform(-5, 5))\n",
    "    if l3Weights.size == 0:\n",
    "        l3Weights = np.array([temp])\n",
    "    else:\n",
    "        l3Weights = np.append(l3Weights, [temp], axis=0)  \n",
    "\n",
    "print(l3Weights.shape)\n",
    "\n",
    "l2Biases = np.array([])\n",
    "l3Biases = np.array([])\n",
    "l4Biases = np.array([])\n",
    "\n",
    "for i in range(16):\n",
    "    l2Biases = np.append(l2Biases, np.random.uniform(-10, 10))\n",
    "    l3Biases = np.append(l3Biases, np.random.uniform(-10, 10))\n",
    "    if i < 10:\n",
    "        l4Biases = np.append(l4Biases, np.random.uniform(-10, 10))\n",
    "\n",
    "print(l1Weights.size + l2Weights.size + l3Weights.size + l2Biases.size + l3Biases.size + l4Biases.size)"
   ]
  },
  {
   "cell_type": "code",
   "execution_count": 10,
   "id": "3d4a66fa-b758-43ac-b7b7-b8311dd6ebf9",
   "metadata": {},
   "outputs": [],
   "source": [
    "# Now we have the network fully set up.\n",
    "# We have 4 layers of neurons\n",
    "# 13002 parameters (weights and biases) with the weights being randomized between [-5, 5] and the biases randomized between [-10, 10]\n",
    "# The 1st layer already has the values of the 1st image and the 2-4th layers all contain neurons initialized at "
   ]
  },
  {
   "cell_type": "code",
   "execution_count": 35,
   "id": "7a4a4c38-f12f-4d74-9543-025faf32ba98",
   "metadata": {},
   "outputs": [],
   "source": [
    "# We are using the sigmoid function as our activation function\n",
    "def sigmoid(x):\n",
    "    return 1 / (1 + math.e ** -x)\n",
    "\n",
    "\n",
    "class Network:\n",
    "    \n",
    "    def setWeights(self, w1, w2, w3):\n",
    "        self.w1 = w1\n",
    "        self.w2 = w2\n",
    "        self.w3 = w3\n",
    "        \n",
    "    def setBiases(self, b2, b3, b4):\n",
    "        self.b2 = b2\n",
    "        self.b3 = b3\n",
    "        self.b4 = b4\n",
    "\n",
    "    def setNeurons(self, n1, n2, n3, n4):\n",
    "        self.n1 = n1\n",
    "        self.n2 = n2\n",
    "        self.n3 = n3\n",
    "        self.n4 = n4\n",
    "\n",
    "    # loads an image into the 1st layer\n",
    "    def initImage(self, data, index):\n",
    "        self.n1 = np.array([])\n",
    "        for i in range(data[index].shape[0]):\n",
    "            for j in range(data[index].shape[1]):\n",
    "                self.n1 = np.append(self.n1, Neuron(data[index][i][j]))\n",
    "\n",
    "    def runImage(self):\n",
    "        \n",
    "        for i in range(self.n2.size): # Per 2nd layer neuron\n",
    "            sum = 0\n",
    "            for j in range(self.n1.size): # Per 1st layer neuron\n",
    "                sum += self.n1[j].getActivation() * self.w1[j][i]\n",
    "            z = sum + self.b2[i]\n",
    "            a = sigmoid(z)\n",
    "            self.n2[i].setActivation(a)\n",
    "            self.n2[i].z = z\n",
    "\n",
    "        for i in range(self.n3.size): # Per 3rd layer neuron\n",
    "            sum = 0\n",
    "            for j in range(self.n2.size): # Per 2nd layer neuron\n",
    "                sum += self.n2[j].getActivation() * self.w2[j][i]\n",
    "            z = sum + self.b3[i]\n",
    "            a = sigmoid(z)\n",
    "            self.n3[i].setActivation(a)\n",
    "            self.n3[i].z = z\n",
    "\n",
    "        for i in range(self.n4.size): # Per 4th layer neuron\n",
    "            sum = 0\n",
    "            for j in range(self.n3.size): # Per 3rd layer neuron\n",
    "                sum += self.n3[j].getActivation() * self.w3[j][i]\n",
    "            z = sum + self.b4[i]\n",
    "            a = sigmoid(z)\n",
    "            self.n4[i].setActivation(a)\n",
    "            self.n4[i].z = z\n",
    "\n",
    "    def calcLoss(self, target):\n",
    "        loss = 0\n",
    "        for i in range(self.n4.size):\n",
    "            if i == target:\n",
    "                loss += (self.n4[i].getActivation() - 1.00) ** 2\n",
    "            else:\n",
    "                loss += self.n4[i].getActivation() ** 2\n",
    "        return loss\n",
    "    \n",
    "    # Backprop\n",
    "    \n",
    "    def backProp_n4(self, target):\n",
    "        self.w3_mod = np.copy(self.w3)\n",
    "        self.w3_mod.fill(0)\n",
    "        for i in range(self.n3.size):\n",
    "            for j in range(self.n4.size):\n",
    "                if (j == target):\n",
    "                    self.w3_mod[i][j] += self.n3[i].getActivation() * (sigmoid(self.n3[i].z) * (1 - sigmoid(self.n3[i].z))) * 2 * (self.n4[j].getActivation() - 1)\n",
    "                else:\n",
    "                    self.w3_mod[i][j] += self.n3[i].getActivation() * (sigmoid(self.n3[i].z) * (1 - sigmoid(self.n3[i].z))) * 2 * (self.n4[j].getActivation())\n",
    "    \n",
    "    #def backProp_n3(self, target):\n",
    "        "
   ]
  },
  {
   "cell_type": "code",
   "execution_count": 36,
   "id": "b8ca8ae6-2564-484b-9a74-c405ed8da370",
   "metadata": {},
   "outputs": [],
   "source": [
    "firstNetwork = Network()\n",
    "firstNetwork.setWeights(l1Weights, l2Weights, l3Weights)\n",
    "firstNetwork.setBiases(l2Biases, l3Biases, l4Biases)\n",
    "firstNetwork.setNeurons(l1, l2, l3, l4)"
   ]
  },
  {
   "cell_type": "code",
   "execution_count": 37,
   "id": "a35e218c-f46d-46ad-9c4c-6f137affbefe",
   "metadata": {},
   "outputs": [],
   "source": [
    "# Lets do a run with our loaded data\n",
    "\n",
    "# Calculates activation of neurons in the second layer\n",
    "for i in range(firstNetwork.n2.size): # Per 2nd layer neuron\n",
    "    sum = 0\n",
    "    for j in range(firstNetwork.n1.size): # Per 1st layer neuron\n",
    "        sum += firstNetwork.n1[j].getActivation() * firstNetwork.w1[j][i]\n",
    "    z = sum + firstNetwork.b2[i]\n",
    "    a = sigmoid(z)\n",
    "    firstNetwork.n2[i].setActivation(a)"
   ]
  },
  {
   "cell_type": "code",
   "execution_count": 38,
   "id": "73c447b4-fc4d-4a0f-a3c0-7b316d262a32",
   "metadata": {},
   "outputs": [
    {
     "name": "stdout",
     "output_type": "stream",
     "text": [
      "0.9999999963029929\n",
      "0.00015071004199567904\n",
      "1.517398013967456e-13\n",
      "7.372625375930393e-11\n",
      "0.10486728640162032\n",
      "6.533936991750174e-20\n",
      "0.08659694665911151\n",
      "1.0\n",
      "9.75137581891003e-14\n",
      "1.2727536375231498e-06\n",
      "0.9999999958203292\n",
      "0.00019026353018272526\n",
      "0.9999999999018601\n",
      "0.9960706697350903\n",
      "7.849669243254305e-19\n",
      "0.9935161956516735\n"
     ]
    }
   ],
   "source": [
    "for i in range(16):\n",
    "    print(firstNetwork.n2[i].getActivation())"
   ]
  },
  {
   "cell_type": "code",
   "execution_count": 39,
   "id": "f300331a-aee6-4532-be74-11fde8349732",
   "metadata": {},
   "outputs": [],
   "source": [
    "# 3rd layer\n",
    "\n",
    "for i in range(firstNetwork.n3.size): # Per 3rd layer neuron\n",
    "    sum = 0\n",
    "    for j in range(firstNetwork.n2.size): # Per 2nd layer neuron\n",
    "        sum += firstNetwork.n2[j].getActivation() * firstNetwork.w2[j][i]\n",
    "    z = sum + firstNetwork.b3[i]\n",
    "    a = sigmoid(z)\n",
    "    firstNetwork.n3[i].setActivation(a)"
   ]
  },
  {
   "cell_type": "code",
   "execution_count": 40,
   "id": "95369675-fe14-42b3-9003-ea04c8f1088a",
   "metadata": {},
   "outputs": [
    {
     "name": "stdout",
     "output_type": "stream",
     "text": [
      "0.9956199651921417\n",
      "0.9480472215460931\n",
      "8.5811507530281e-07\n",
      "0.9999999782769442\n",
      "0.058024636185766004\n",
      "0.007572143966708665\n",
      "2.2897642827772767e-05\n",
      "0.999999982689835\n",
      "0.9954869846755573\n",
      "0.9492363956422127\n",
      "0.39050766541853293\n",
      "0.9647301619711971\n",
      "0.9999944244749934\n",
      "0.9359502645192648\n",
      "0.9741853851930177\n",
      "0.0009774420012027805\n"
     ]
    }
   ],
   "source": [
    "for i in range(16):\n",
    "    print(firstNetwork.n3[i].getActivation())"
   ]
  },
  {
   "cell_type": "code",
   "execution_count": 41,
   "id": "e5563a59-9210-4f36-b950-3626615d6400",
   "metadata": {},
   "outputs": [],
   "source": [
    "#head\n",
    "\n",
    "for i in range(firstNetwork.n4.size): # Per 4th layer neuron\n",
    "    sum = 0\n",
    "    for j in range(firstNetwork.n3.size): # Per 3rd layer neuron\n",
    "        sum += firstNetwork.n3[j].getActivation() * firstNetwork.w3[j][i]\n",
    "    z = sum + firstNetwork.b4[i]\n",
    "    a = sigmoid(z)\n",
    "    firstNetwork.n4[i].setActivation(a)"
   ]
  },
  {
   "cell_type": "code",
   "execution_count": 42,
   "id": "33bdf44b-07f6-4f11-b782-028ae86cfdfd",
   "metadata": {},
   "outputs": [
    {
     "name": "stdout",
     "output_type": "stream",
     "text": [
      "3.7502422724592856e-07\n",
      "0.046484161523865516\n",
      "3.2738221219284243e-06\n",
      "2.4379380004778574e-07\n",
      "3.9964433630948456e-05\n",
      "0.9964168640269987\n",
      "0.9755567589018221\n",
      "0.13597788034220773\n",
      "0.21476447894540757\n",
      "1.7228699092289533e-06\n"
     ]
    }
   ],
   "source": [
    "for i in range(10):\n",
    "    print(firstNetwork.n4[i].getActivation())"
   ]
  },
  {
   "cell_type": "code",
   "execution_count": 43,
   "id": "cf271e11-ee5b-4fc5-944b-a9386aa46f5c",
   "metadata": {},
   "outputs": [],
   "source": []
  },
  {
   "cell_type": "code",
   "execution_count": 44,
   "id": "05a8df18-9920-4e1d-b6ca-7cd6c40d77eb",
   "metadata": {},
   "outputs": [
    {
     "name": "stdout",
     "output_type": "stream",
     "text": [
      "5\n",
      "1.0184983729451003\n",
      "5\n",
      "0.9964168640269987\n"
     ]
    }
   ],
   "source": [
    "print(train_labels[0])\n",
    "print(firstNetwork.calcLoss(5))\n",
    "print(getMaxNumber(firstNetwork.n4))\n",
    "print(getMax(firstNetwork.n4))"
   ]
  },
  {
   "cell_type": "code",
   "execution_count": 45,
   "id": "5c17334e-cc13-4bed-bcb0-acbb260931b4",
   "metadata": {},
   "outputs": [],
   "source": [
    "# del(cost) / del(weight) == a(l-1) * sig'(z) * 2(a - y)\n",
    "# del(cost) / del(bias) == sig'(z) * 2(a - y)\n",
    "\n",
    "#### BACKPROP ####"
   ]
  },
  {
   "cell_type": "code",
   "execution_count": 46,
   "id": "8e4944b4",
   "metadata": {},
   "outputs": [
    {
     "data": {
      "text/plain": [
       "array([[-1.28962147, -2.75057243, -3.65507522, -2.29814614, -0.87844018,\n",
       "        -1.31485751,  2.91187688, -4.38792988,  0.73636615, -3.72974786],\n",
       "       [ 2.53244351, -1.68949084, -1.21062291,  4.4935763 ,  0.1693273 ,\n",
       "         3.14855744,  0.13043344, -1.96889791, -1.53832306, -3.46813376],\n",
       "       [ 4.96123478, -0.19109608,  1.73542447, -3.25337878, -0.35322568,\n",
       "        -3.73390499, -2.02819259,  1.06454281, -3.00655651,  1.13041682],\n",
       "       [ 2.13147607,  1.72946553, -1.12724262, -2.04510684,  2.31594676,\n",
       "         0.15812095,  4.2826104 , -1.73837902, -0.88680763,  2.19024512],\n",
       "       [-2.99405582, -2.80230504, -4.56427834, -4.72327097,  4.89017075,\n",
       "         4.66019988,  1.7022183 , -1.60979164, -2.50137162,  1.54836249],\n",
       "       [-2.33711046,  1.15584607,  1.26003237, -0.67528101, -0.72841235,\n",
       "        -3.49921584, -0.57303069,  3.35181636,  1.95839157,  0.90754087],\n",
       "       [ 2.92874468, -3.70221394,  3.90226569, -0.43728779,  1.99666336,\n",
       "        -0.92306171, -4.55817162, -4.95013945,  0.24535376,  1.91982225],\n",
       "       [ 1.11995354,  1.61335467, -3.1552561 , -0.6390982 , -1.9376734 ,\n",
       "         4.18182686, -3.24799171, -3.25166566, -0.18340316,  2.04688873],\n",
       "       [-3.39352795, -0.86593752,  0.9100492 , -0.71315289,  1.46242027,\n",
       "         4.67645078,  4.14354837, -0.77798998,  1.66582389,  1.97616345],\n",
       "       [-4.38156279, -2.44885425, -3.7031361 , -2.83126494, -1.98276611,\n",
       "        -3.36017483,  0.84173995,  0.02865006,  0.61820655, -1.47579724],\n",
       "       [-3.99733956, -0.75236301, -4.70810032, -0.21798542, -4.25348315,\n",
       "         2.78781129,  0.94249505, -2.00044296,  3.05796845,  4.43741909],\n",
       "       [-3.85084172, -1.14895065, -2.49546212,  1.14724423,  1.12820424,\n",
       "         2.1003729 , -3.93542953,  3.57540882,  2.68890133, -1.16580969],\n",
       "       [-3.52647035, -2.49599396,  2.82141015,  1.92560785, -2.09793159,\n",
       "        -2.57273161,  0.56739157,  2.58405995, -3.96081306, -4.07652195],\n",
       "       [-1.98225638,  2.73399439, -3.01383109, -3.31444753, -0.60928568,\n",
       "        -1.07717069, -4.46432053, -2.83280716,  4.60094946,  0.46828436],\n",
       "       [ 0.15733309,  0.80308331, -4.82212285, -3.38852569, -2.67961403,\n",
       "         4.14533586,  4.35404747,  1.1420812 , -1.73835469,  0.3787864 ],\n",
       "       [ 2.63058589,  3.42481346,  1.64844812,  1.16609126,  1.93148705,\n",
       "         2.96057283, -0.89537035,  4.34708513, -4.56213996, -1.67903726]])"
      ]
     },
     "execution_count": 46,
     "metadata": {},
     "output_type": "execute_result"
    }
   ],
   "source": [
    "firstNetwork.w3"
   ]
  },
  {
   "cell_type": "code",
   "execution_count": 47,
   "id": "fa65fa2f-80f9-42a7-ac48-dcf98a9715f4",
   "metadata": {},
   "outputs": [
    {
     "name": "stdout",
     "output_type": "stream",
     "text": [
      "[[ 1.86690804e-07  2.31402796e-02  1.62974133e-06  1.21362987e-07\n",
      "   1.98946940e-05 -1.78372086e-03  4.85641893e-01  6.76911462e-02\n",
      "   1.06911902e-01  8.57661840e-07]\n",
      " [ 1.77770338e-07  2.20345901e-02  1.55186898e-06  1.15564017e-07\n",
      "   1.89440851e-05 -1.69849105e-03  4.62436937e-01  6.44567258e-02\n",
      "   1.01803434e-01  8.16681015e-07]\n",
      " [ 1.60906972e-13  1.99443799e-08  1.40465806e-12  1.04601568e-13\n",
      "   1.71470415e-11 -1.53737150e-09  4.18569981e-07  5.83423345e-08\n",
      "   9.21463185e-08  7.39210321e-13]\n",
      " [ 1.87512110e-07  2.32420803e-02  1.63691103e-06  1.21896897e-07\n",
      "   1.99822164e-05 -1.79156795e-03  4.87778369e-01  6.79889387e-02\n",
      "   1.07382237e-01  8.61434936e-07]\n",
      " [ 1.08803222e-08  1.34861328e-03  9.49811688e-08  7.07302328e-09\n",
      "   1.15946086e-06 -1.03955081e-04  2.83031630e-02  3.94503352e-03\n",
      "   6.23081538e-03  4.99844498e-08]\n",
      " [ 1.41986872e-09  1.75992382e-04  1.23949262e-08  9.23020876e-10\n",
      "   1.51308223e-07 -1.35660107e-05  3.69352811e-03  5.14822043e-04\n",
      "   8.13113777e-04  6.52290949e-09]\n",
      " [ 4.29358540e-12  5.32188864e-07  3.74814048e-11  2.79115168e-12\n",
      "   4.57545664e-10 -4.10226839e-08  1.11689751e-05  1.55678647e-06\n",
      "   2.45880017e-06  1.97248299e-11]\n",
      " [ 1.87512110e-07  2.32420804e-02  1.63691103e-06  1.21896898e-07\n",
      "   1.99822165e-05 -1.79156796e-03  4.87778371e-01  6.79889390e-02\n",
      "   1.07382238e-01  8.61434940e-07]\n",
      " [ 1.86665869e-07  2.31371889e-02  1.62952366e-06  1.21346777e-07\n",
      "   1.98920368e-05 -1.78348261e-03  4.85577028e-01  6.76821050e-02\n",
      "   1.06897622e-01  8.57547285e-07]\n",
      " [ 1.77993323e-07  2.20622290e-02  1.55381556e-06  1.15708974e-07\n",
      "   1.89678475e-05 -1.70062154e-03  4.63016991e-01  6.45375765e-02\n",
      "   1.01931130e-01  8.17705411e-07]\n",
      " [ 7.32249177e-08  9.07621070e-03  6.39226317e-07  4.76016739e-08\n",
      "   7.80320884e-06 -6.99621032e-04  1.90481196e-01  2.65502023e-02\n",
      "   4.19335876e-02  3.36396953e-07]\n",
      " [ 1.80898592e-07  2.24223363e-02  1.57917747e-06  1.17597616e-07\n",
      "   1.92774473e-05 -1.72837967e-03  4.70574515e-01  6.55909813e-02\n",
      "   1.03594885e-01  8.31052283e-07]\n",
      " [ 1.87511068e-07  2.32419512e-02  1.63690193e-06  1.21896220e-07\n",
      "   1.99821054e-05 -1.79155800e-03  4.87775660e-01  6.79885611e-02\n",
      "   1.07381641e-01  8.61430152e-07]\n",
      " [ 1.75502012e-07  2.17534316e-02  1.53206734e-06  1.14089436e-07\n",
      "   1.87023611e-05 -1.67681853e-03  4.56536303e-01  6.36342665e-02\n",
      "   1.00504435e-01  8.06260274e-07]\n",
      " [ 1.82671561e-07  2.26420954e-02  1.59465483e-06  1.18750179e-07\n",
      "   1.94663836e-05 -1.74531935e-03  4.75186568e-01  6.62338319e-02\n",
      "   1.04610208e-01  8.39197343e-07]\n",
      " [ 1.83282216e-10  2.27177859e-05  1.59998562e-09  1.19147150e-10\n",
      "   1.95314580e-08 -1.75115380e-06  4.76775075e-04  6.64552457e-05\n",
      "   1.04959911e-04  8.42002706e-10]]\n"
     ]
    }
   ],
   "source": [
    "firstNetwork.backProp_n4(5)\n",
    "print(firstNetwork.w3_mod)"
   ]
  },
  {
   "cell_type": "code",
   "execution_count": null,
   "id": "3cb747ee",
   "metadata": {},
   "outputs": [],
   "source": []
  }
 ],
 "metadata": {
  "kernelspec": {
   "display_name": "mnist_neuralnet",
   "language": "python",
   "name": "mnist_neuralnet"
  },
  "language_info": {
   "codemirror_mode": {
    "name": "ipython",
    "version": 3
   },
   "file_extension": ".py",
   "mimetype": "text/x-python",
   "name": "python",
   "nbconvert_exporter": "python",
   "pygments_lexer": "ipython3",
   "version": "3.12.3"
  }
 },
 "nbformat": 4,
 "nbformat_minor": 5
}
