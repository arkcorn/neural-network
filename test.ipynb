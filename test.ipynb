{
 "cells": [
  {
   "cell_type": "code",
   "execution_count": 1,
   "id": "96052a34",
   "metadata": {},
   "outputs": [
    {
     "name": "stderr",
     "output_type": "stream",
     "text": [
      "2024-08-07 16:09:58.300437: I external/local_xla/xla/tsl/cuda/cudart_stub.cc:32] Could not find cuda drivers on your machine, GPU will not be used.\n",
      "2024-08-07 16:09:58.303691: I external/local_xla/xla/tsl/cuda/cudart_stub.cc:32] Could not find cuda drivers on your machine, GPU will not be used.\n",
      "2024-08-07 16:09:58.311788: E external/local_xla/xla/stream_executor/cuda/cuda_fft.cc:485] Unable to register cuFFT factory: Attempting to register factory for plugin cuFFT when one has already been registered\n",
      "2024-08-07 16:09:58.324079: E external/local_xla/xla/stream_executor/cuda/cuda_dnn.cc:8454] Unable to register cuDNN factory: Attempting to register factory for plugin cuDNN when one has already been registered\n",
      "2024-08-07 16:09:58.327642: E external/local_xla/xla/stream_executor/cuda/cuda_blas.cc:1452] Unable to register cuBLAS factory: Attempting to register factory for plugin cuBLAS when one has already been registered\n",
      "2024-08-07 16:09:58.339105: I tensorflow/core/platform/cpu_feature_guard.cc:210] This TensorFlow binary is optimized to use available CPU instructions in performance-critical operations.\n",
      "To enable the following instructions: AVX2 FMA, in other operations, rebuild TensorFlow with the appropriate compiler flags.\n",
      "2024-08-07 16:09:59.117174: W tensorflow/compiler/tf2tensorrt/utils/py_utils.cc:38] TF-TRT Warning: Could not find TensorRT\n"
     ]
    }
   ],
   "source": [
    "import numpy as np\n",
    "import matplotlib.pyplot as plt\n",
    "from keras.datasets import mnist\n",
    "from scipy.special import expit"
   ]
  },
  {
   "cell_type": "code",
   "execution_count": 2,
   "id": "1921ccf7",
   "metadata": {},
   "outputs": [],
   "source": [
    "# Loads mnist data into variables\n",
    "\n",
    "(train_images, train_labels), (test_images, test_labels) = mnist.load_data()"
   ]
  },
  {
   "cell_type": "code",
   "execution_count": 3,
   "id": "f1254718-3c5b-429f-96dd-370250e7f061",
   "metadata": {},
   "outputs": [
    {
     "name": "stdout",
     "output_type": "stream",
     "text": [
      "(60000, 28, 28)\n",
      "(60000,)\n",
      "(10000, 28, 28)\n",
      "(10000,)\n"
     ]
    }
   ],
   "source": [
    "print(train_images.shape)\n",
    "print(train_labels.shape)\n",
    "print(test_images.shape)\n",
    "print(test_labels.shape)"
   ]
  },
  {
   "cell_type": "code",
   "execution_count": 4,
   "id": "264b3b4b-b73c-484b-9090-5ddd3e7044ab",
   "metadata": {},
   "outputs": [],
   "source": [
    "# Pixel values by default are [0,255] (where 0 is black and 255 is white)\n",
    "# We normalize these values for better compatibility with my model\n",
    "train_images = train_images.astype('float32')/255.0\n",
    "test_images = test_images.astype('float32')/255.0"
   ]
  },
  {
   "cell_type": "code",
   "execution_count": 6,
   "id": "f15303d4-12aa-4104-8eeb-beb1b572dbbf",
   "metadata": {},
   "outputs": [
    {
     "data": {
      "image/png": "[encoded data removed]",
      "text/plain": [
       "<Figure size 1000x500 with 8 Axes>"
      ]
     },
     "metadata": {},
     "output_type": "display_data"
    }
   ],
   "source": [
    "rows = 2\n",
    "cols = 4\n",
    "\n",
    "fig, axes = plt.subplots(rows, cols, figsize=(10, 5))\n",
    "\n",
    "# Commented code shows first 8 images (indices 0-7)\n",
    "\n",
    "for i in range(rows):\n",
    "    for j in range(cols):\n",
    "        index = j + (cols * i)\n",
    "        axes[i, j].imshow(train_images[index], cmap='gray')\n",
    "        axes[i, j].axis('off')\n",
    "\n",
    "\n",
    "# # Show 8 random images in the dataset\n",
    "\n",
    "# for i in range(rows):\n",
    "#     for j in range(cols):\n",
    "#         index = np.random.randint(0, train_images.shape[0] - 1)\n",
    "#         axes[i, j].imshow(train_images[index], cmap='gray')\n",
    "#         axes[i, j].axis('off')\n",
    "\n",
    "fig.suptitle(\"MNIST Dataset Sample Images\", fontsize=16)\n",
    "plt.tight_layout()\n",
    "plt.show()"
   ]
  },
  {
   "cell_type": "code",
   "execution_count": 7,
   "id": "0bd05737",
   "metadata": {},
   "outputs": [],
   "source": [
    "n1Size = 784\n",
    "n2Size = 16\n",
    "n3Size = 16\n",
    "n4Size = 10\n",
    "\n",
    "l1Weights = np.array([])\n",
    "\n",
    "for i in range(n1Size):\n",
    "    temp = np.array([])\n",
    "    for j in range(n2Size):\n",
    "        # temp is an array of weights from ith neuron to all 16 neurons in the second layer\n",
    "        temp = np.append(temp, np.random.normal(loc=0, scale=1))\n",
    "    if l1Weights.size == 0:\n",
    "        l1Weights = np.array([temp])\n",
    "    else:\n",
    "        l1Weights = np.append(l1Weights, [temp], axis=0)  \n",
    "l2Weights = np.array([])\n",
    "\n",
    "for i in range(n2Size):\n",
    "    temp = np.array([])\n",
    "    for j in range(n3Size):\n",
    "        temp = np.append(temp, np.random.normal(loc=0, scale=1))\n",
    "    if l2Weights.size == 0:\n",
    "        l2Weights = np.array([temp])\n",
    "    else:\n",
    "        l2Weights = np.append(l2Weights, [temp], axis=0)     \n",
    "\n",
    "l3Weights = np.array([])\n",
    "\n",
    "for i in range(n3Size):\n",
    "    temp = np.array([])\n",
    "    for j in range(n4Size):\n",
    "        temp = np.append(temp, np.random.normal(loc=0, scale=1))\n",
    "    if l3Weights.size == 0:\n",
    "        l3Weights = np.array([temp])\n",
    "    else:\n",
    "        l3Weights = np.append(l3Weights, [temp], axis=0)  \n",
    "\n",
    "\n",
    "l2Biases = np.array([])\n",
    "l3Biases = np.array([])\n",
    "l4Biases = np.array([])\n",
    "\n",
    "for i in range(16):\n",
    "    l2Biases = np.append(l2Biases, np.random.normal(loc=0, scale=1))\n",
    "    l3Biases = np.append(l3Biases, np.random.normal(loc=0, scale=1))\n",
    "    if i < 10:\n",
    "        l4Biases = np.append(l4Biases, np.random.normal(loc=0, scale=1))"
   ]
  },
  {
   "cell_type": "code",
   "execution_count": 16,
   "id": "0328d088-9560-4745-9bbe-e6a8db11b525",
   "metadata": {},
   "outputs": [],
   "source": [
    "# We are using the sigmoid function as our activation function\n",
    "def sigmoid_prime(x):\n",
    "    \n",
    "    return expit(x) * (1.0 - expit(x))\n",
    "    \n",
    "\n",
    "class Network:\n",
    "    def __init__(self):\n",
    "        # a1-a4 are the activiations of every neuron\n",
    "        # z2-z4 are the pre-activation function values of each neuron while it's being run through the network\n",
    "        # bestloss records the lowest loss value from batch to batch. It's set to 100.0 to be an unreasonably high number\n",
    "        self.bestloss = 100.0\n",
    "        \n",
    "        self.a1 = np.zeros(784)\n",
    "        self.a2 = np.zeros(16)\n",
    "        self.a3 = np.zeros(16)\n",
    "        self.a4 = np.zeros(10)\n",
    "\n",
    "        self.z2 = np.zeros(16)\n",
    "        self.z3 = np.zeros(16)\n",
    "        self.z4 = np.zeros(10)\n",
    "    \n",
    "    def setWeights(self, w1, w2, w3):\n",
    "        self.w1 = np.copy(w1)\n",
    "        self.w2 = np.copy(w2)\n",
    "        self.w3 = np.copy(w3)\n",
    "        \n",
    "    def setBiases(self, b2, b3, b4):\n",
    "        self.b2 = np.copy(b2)\n",
    "        self.b3 = np.copy(b3)\n",
    "        self.b4 = np.copy(b4)\n",
    "        \n",
    "    \n",
    "    # loads an image into the 1st layer\n",
    "    def initImage(self, data, index):\n",
    "        self.a1 = data[index].flatten()\n",
    "\n",
    "    # Runs through the network with an image\n",
    "    def runImage(self):\n",
    "\n",
    "        self.z2 = np.dot(self.a1, self.w1) + self.b2\n",
    "        self.a2 = expit(self.z2)\n",
    "\n",
    "        self.z3 = np.dot(self.a2, self.w2) + self.b3\n",
    "        self.a3 = expit(self.z3)\n",
    "        \n",
    "        self.z4 = np.dot(self.a3, self.w3) + self.b4\n",
    "        self.a4 = expit(self.z4)\n",
    "\n",
    "    # Calculates the loss of the current image\n",
    "    def calcLoss(self):\n",
    "        return np.linalg.norm(self.a4 - self.target_vector) ** 2.0\n",
    "    \n",
    "    # Returns a bool (T or F) if the network succesfully classified an image\n",
    "    def isCorrect(self):\n",
    "        return np.where(self.target_vector == 1)[0] == np.argmax(self.a4)\n",
    "            \n",
    "    \n",
    "    # Backprop\n",
    "    \n",
    "    # Does stochastic gradient descent and calculates the amount the weights from l3-l4 and biases in l4 need to shift to better classify the image next time\n",
    "    def backProp_n4(self):\n",
    "        y = 0\n",
    "        self.w3_mod_cur = np.zeros((16, 10))\n",
    "\n",
    "        \n",
    "        for i in range(self.a3.size):\n",
    "            for j in range(self.a4.size):\n",
    "\n",
    "                if np.where(self.target_vector == 1)[0] == j:\n",
    "                    y = 1\n",
    "                else:\n",
    "                    y = 0\n",
    "\n",
    "                \n",
    "                if (i == 0): # calculate biases\n",
    "                    self.b4_mod[j] += sigmoid_prime(self.z4[j]) * 2.0 * (self.a4[j] - y)\n",
    "                \n",
    "                self.w3_mod_cur[i][j] = self.a3[i] * sigmoid_prime(self.z4[j]) * 2.0 * (self.a4[j] - y) # used for later calculations\n",
    "                self.w3_mod[i][j] += self.w3_mod_cur[i][j]\n",
    "                \n",
    "    \n",
    "    def backProp_n3(self):\n",
    "        self.w2_mod_cur = np.zeros((16, 16))\n",
    "        \n",
    "        temp_w3 = self.w3_mod_cur / self.a3[:, np.newaxis] # divide by a\n",
    "        temp_w3 *= self.w3 # multiply by w\n",
    "        # now temp_w3 is a matrix of del C / del a\n",
    "        \n",
    "        for i in range(self.a2.size):\n",
    "            for j in range(self.a3.size):\n",
    "                \n",
    "                temp = self.a2[i] * sigmoid_prime(self.z3[j])\n",
    "\n",
    "                temp2 = np.sum(temp_w3[j])\n",
    "\n",
    "                if i == 0: # calculate biases\n",
    "                    self.b3_mod[j] += sigmoid_prime(self.z3[j]) * temp2 # using w3 here (shhh!)\n",
    "\n",
    "                self.w2_mod_cur[i][j] = temp * temp2\n",
    "                self.w2_mod[i][j] += self.w2_mod_cur[i][j]\n",
    "\n",
    "                \n",
    "\n",
    "        \n",
    "    \n",
    "    def backProp_n2(self):\n",
    "        temp_w2 = self.w2_mod_cur / self.a2[:, np.newaxis] # divide by a\n",
    "        temp_w2 *= self.w2 # multiply by w\n",
    "        # now temp_w2 is a matrix of del C / del a\n",
    "        \n",
    "        for i in range(self.a1.size):\n",
    "            for j in range(self.a2.size):\n",
    "                \n",
    "                temp = self.a1[i] * sigmoid_prime(self.z2[j])\n",
    "\n",
    "                temp2 = np.sum(temp_w2[j])\n",
    "\n",
    "                if i == 0: # calculate biases\n",
    "                    self.b2_mod[j] += sigmoid_prime(self.z2[j]) * temp2 # using w3 here (shhh!)\n",
    "                    \n",
    "                self.w1_mod[i][j] += temp * temp2\n",
    "\n",
    "\n",
    "                    \n",
    "    \n",
    "    def backProp(self):\n",
    "        self.backProp_n4()\n",
    "        self.backProp_n3()\n",
    "        self.backProp_n2()\n",
    "    \n",
    "    # Runs 1 batch (default batchsize == 100)\n",
    "    def runBatch(self, data, labels, startIdx = 0, batchSize=100, test=False):\n",
    "\n",
    "        \n",
    "        self.w3_mod = np.copy(self.w3)\n",
    "        self.w3_mod.fill(0.0)\n",
    "        \n",
    "        self.b4_mod = np.copy(self.b4)\n",
    "        self.b4_mod.fill(0.0)\n",
    "        \n",
    "        self.w2_mod = np.copy(self.w2)\n",
    "        self.w2_mod.fill(0.0)\n",
    "        \n",
    "        self.b3_mod = np.copy(self.b3)\n",
    "        self.b3_mod.fill(0.0)\n",
    "        \n",
    "        self.w1_mod = np.copy(self.w1)\n",
    "        self.w1_mod.fill(0.0)\n",
    "        \n",
    "        self.b2_mod = np.copy(self.b2)\n",
    "        self.b2_mod.fill(0.0)\n",
    "\n",
    "        self.target_vector = np.zeros(10)\n",
    "\n",
    "        \n",
    "        loss = 0.0\n",
    "        counter = 0\n",
    "        for i in range(startIdx, startIdx + batchSize):\n",
    "            self.target_vector[labels[i]] = 1\n",
    "            \n",
    "            \n",
    "            \n",
    "            if i % 100 == 0:\n",
    "                print(i)\n",
    "            \n",
    "            self.initImage(data, i)\n",
    "            self.runImage()\n",
    "            loss += self.calcLoss()\n",
    "            if self.isCorrect():\n",
    "                counter += 1\n",
    "            self.backProp()\n",
    "\n",
    "            self.target_vector[labels[i]] = 0\n",
    "\n",
    "\n",
    "        if not test:\n",
    "            loss /= batchSize\n",
    "        else: # if test\n",
    "            print(\"TESTING TIMEEEEEEEEEE!\")\n",
    "            loss /= batchSize\n",
    "        print(loss)\n",
    "        \n",
    "        if loss < self.bestloss and not test:\n",
    "            self.bestloss = loss\n",
    "            self.best_w3 = self.w3\n",
    "            self.best_w2 = self.w2\n",
    "            self.best_w2 = self.w2\n",
    "\n",
    "            self.best_b4 = self.b4\n",
    "            self.best_b3 = self.b3\n",
    "            self.best_b2 = self.b2\n",
    "\n",
    "        \n",
    "        print(counter / batchSize)\n",
    "        \n",
    "        \n",
    "        \n",
    "        self.w3_mod = np.divide(self.w3_mod, float(batchSize))\n",
    "        self.w2_mod = np.divide(self.w2_mod, float(batchSize))\n",
    "        self.w1_mod = np.divide(self.w1_mod, float(batchSize))\n",
    "        self.b4_mod = np.divide(self.b4_mod, float(batchSize))\n",
    "        self.b3_mod = np.divide(self.b3_mod, float(batchSize))\n",
    "        self.b2_mod = np.divide(self.b2_mod, float(batchSize))\n",
    "        \n",
    "        \n",
    "        learningRate = 3.0\n",
    "        \n",
    "        \n",
    "        if not test:\n",
    "            self.w3 -= learningRate * self.w3_mod\n",
    "            self.w2 -= learningRate * self.w2_mod\n",
    "            self.w1 -= learningRate * self.w1_mod\n",
    "            self.b4 -= learningRate * self.b4_mod\n",
    "            self.b3 -= learningRate * self.b3_mod\n",
    "            self.b2 -= learningRate * self.b2_mod\n",
    "        \n",
    "            \n",
    "            \n",
    "        \n",
    "        \n",
    "            \n",
    "            \n",
    "\n",
    "    def classifyImage(self, data, idx):\n",
    "        self.initImage(data, idx)\n",
    "        self.runImage()\n",
    "        return np.argmax(self.a4)\n",
    "            "
   ]
  },
  {
   "cell_type": "code",
   "execution_count": 17,
   "id": "ab2a1fd2-d612-44b4-8393-bcc553254974",
   "metadata": {},
   "outputs": [],
   "source": [
    "network = Network()\n",
    "network.setWeights(l1Weights, l2Weights, l3Weights)\n",
    "network.setBiases(l2Biases, l3Biases, l4Biases)"
   ]
  },
  {
   "cell_type": "code",
   "execution_count": 18,
   "id": "98ae7abc-e4ea-46ef-b4a1-e48a848f6bbe",
   "metadata": {},
   "outputs": [],
   "source": [
    "network.w1 = np.loadtxt('./weights_and_biases/networkw1.csv', delimiter=',')\n",
    "network.w2 = np.loadtxt('./weights_and_biases/networkw2.csv', delimiter=',')\n",
    "network.w3 = np.loadtxt('./weights_and_biases/networkw3.csv', delimiter=',')\n",
    "\n",
    "network.b2 = np.loadtxt('./weights_and_biases/networkb2.csv', delimiter=',')\n",
    "network.b3 = np.loadtxt('./weights_and_biases/networkb3.csv', delimiter=',')\n",
    "network.b4 = np.loadtxt('./weights_and_biases/networkb4.csv', delimiter=',')"
   ]
  },
  {
   "cell_type": "code",
   "execution_count": 19,
   "id": "7d812a72-c702-4355-8efc-c5f5b55cec8c",
   "metadata": {},
   "outputs": [
    {
     "name": "stdout",
     "output_type": "stream",
     "text": [
      "TESTING TIMEEEEEEEEEE!\n",
      "0.12326620196218849\n",
      "0.9213\n"
     ]
    }
   ],
   "source": [
    "# Tests the network\n",
    "\n",
    "network.runBatch(test_images, test_labels, 0, 10000, True)"
   ]
  },
  {
   "cell_type": "code",
   "execution_count": 28,
   "id": "3c573be5-4eae-429f-94a5-e7a3c0e48af5",
   "metadata": {},
   "outputs": [
    {
     "data": {
      "text/plain": [
       "(-0.5, 27.5, 27.5, -0.5)"
      ]
     },
     "execution_count": 28,
     "metadata": {},
     "output_type": "execute_result"
    },
    {
     "data": {
      "image/png": "[encoded data removed]",
      "text/plain": [
       "<Figure size 640x480 with 1 Axes>"
      ]
     },
     "metadata": {},
     "output_type": "display_data"
    }
   ],
   "source": [
    "# Change the index in imshow to a # between 0 and 9999 to see a random image in the dataset\n",
    "plt.imshow(test_images[3], cmap='gray')\n",
    "plt.axis('off')"
   ]
  },
  {
   "cell_type": "code",
   "execution_count": 29,
   "id": "a2c22848-46d2-4059-96ac-c6a660629939",
   "metadata": {},
   "outputs": [
    {
     "data": {
      "text/plain": [
       "0"
      ]
     },
     "execution_count": 29,
     "metadata": {},
     "output_type": "execute_result"
    }
   ],
   "source": [
    "# Change this number to the one you inputted above to see what the network classifies it as!\n",
    "network.classifyImage(test_images, 3)"
   ]
  }
 ],
 "metadata": {
  "kernelspec": {
   "display_name": "mnist_neuralnet",
   "language": "python",
   "name": "mnist_neuralnet"
  },
  "language_info": {
   "codemirror_mode": {
    "name": "ipython",
    "version": 3
   },
   "file_extension": ".py",
   "mimetype": "text/x-python",
   "name": "python",
   "nbconvert_exporter": "python",
   "pygments_lexer": "ipython3",
   "version": "3.12.3"
  }
 },
 "nbformat": 4,
 "nbformat_minor": 5
}
